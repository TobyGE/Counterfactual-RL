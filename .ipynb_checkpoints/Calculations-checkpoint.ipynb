{
 "metadata": {
  "name": "",
  "signature": "sha256:dda688ba06d012cd7b775d8534220aeffa518a5eae9d8ba6a4a6d88225cceeb2"
 },
 "nbformat": 3,
 "nbformat_minor": 0,
 "worksheets": [
  {
   "cells": [
    {
     "cell_type": "heading",
     "level": 1,
     "metadata": {},
     "source": [
      "Identify optimal parameter set after optimisation"
     ]
    },
    {
     "cell_type": "markdown",
     "metadata": {},
     "source": [
      " The optimisation algorithm used in the optimisation coverges on a local and not necessarily absolute optimum. To avoid such cases, several different start values for the optimisation are chosen and then the best optimal parameter configuration across the different start values is selected. Taking the output from the optimisation procedure the following code identifies the optimal parameter set for each individual subject and stores it an new file."
     ]
    },
    {
     "cell_type": "heading",
     "level": 3,
     "metadata": {},
     "source": [
      "Real Behavioural Data"
     ]
    },
    {
     "cell_type": "code",
     "collapsed": false,
     "input": [
      "import numpy as np\n",
      "\n",
      "\n",
      "#load data\n",
      "\n",
      "inputFiles = ['../output/real/M1.csv','../output/real/M21.csv',\n",
      "                '../output/real/M31.csv','../output/real/M4.csv',\n",
      "                '../output/real/M22.csv','../output/real/M23.csv',\n",
      "                '../output/real/M32.csv','../output/real/M33.csv']\n",
      "\n",
      "#create output files for Simulation\n",
      "outputFilesS = ['../input/M1.csv','../input/M21.csv',\n",
      "                '../input/M31.csv','../input/M4.csv',\n",
      "                '../input/M22.csv','../input/M23.csv',\n",
      "                '../input/M32.csv','../input/M33.csv']\n",
      "\n",
      "outputFiles = ['../output/M1.csv','../output/M21.csv',\n",
      "               '../output/M31.csv','../output/M4.csv',\n",
      "               '../output/M22.csv','../output/M23.csv',\n",
      "               '../output/M32.csv','../output/M33.csv']\n",
      "\n",
      "#number of starting values\n",
      "nrStartValues = [16,32,32,64,32,32,32,32]\n",
      "\n",
      "iterator = 0\n",
      "\n",
      "for (iFile,oFileS,oFile) in zip(inputFiles,outputFilesS,outputFiles):\n",
      "    \n",
      "    optData = np.genfromtxt(iFile, delimiter=',') #load data file\n",
      "    subjects = np.size(optData, axis=1)\n",
      "    nrParam = (np.size(optData, axis=0)/nrStartValues[iterator])-1\n",
      "    optParam = np.zeros((subjects, nrParam ))\n",
      "    optParam2 = np.zeros((subjects, nrParam+1 ))#result array\n",
      "    #subjects=2\n",
      "    \n",
      "    for s in range(subjects):\n",
      "        \n",
      "        #identify index of minimum because fminsearch is \n",
      "        #minimising a negative number (=maximisation)\n",
      "        maxIndex = optData[-nrStartValues[iterator]-1:-1,s].argmin(axis=0)\n",
      "        \n",
      "        for param in range(nrParam):\n",
      "            \n",
      "            #collect optimal parameter set using index\n",
      "            optParam[s,param]=optData[(nrStartValues[iterator]*param)+maxIndex-1,s]\n",
      "            #print(nrStartValues[iterator]*param)\n",
      "            \n",
      "            \n",
      "        #add LH value for \n",
      "        optParam2[s,0:nrParam]=optParam[s,:]\n",
      "        optParam2[s,-1]=np.amin(optData[-nrStartValues[iterator]-1:-1,s],axis=0)\n",
      "        \n",
      "    np.savetxt(oFileS,optParam, delimiter=',')\n",
      "    np.savetxt(oFile,optParam2, delimiter=',')\n",
      "    iterator +=1"
     ],
     "language": "python",
     "metadata": {},
     "outputs": [],
     "prompt_number": 55
    },
    {
     "cell_type": "heading",
     "level": 3,
     "metadata": {},
     "source": [
      "Simulated Data"
     ]
    },
    {
     "cell_type": "markdown",
     "metadata": {},
     "source": [
      "Similar to above, the optimisation algorithm used in the optimisation coverges on a local and not necessarily absolute optimum. Taking the output from the optimisation procedure the following code identifies the optimal parameter set for each individual subject and simulation and stores it an new file."
     ]
    },
    {
     "cell_type": "code",
     "collapsed": false,
     "input": [
      "pwd"
     ],
     "language": "python",
     "metadata": {},
     "outputs": [
      {
       "metadata": {},
       "output_type": "pyout",
       "prompt_number": 65,
       "text": [
        "u'/Users/l/Programming/Git/Counterfactual-RL'"
       ]
      }
     ],
     "prompt_number": 65
    },
    {
     "cell_type": "code",
     "collapsed": false,
     "input": [
      "import numpy as np\n",
      "\n",
      "\n",
      "#load data\n",
      "\n",
      "inputFiles = ['output/simul/Sim_M1.csv','output/simul/Sim_M21.csv',\n",
      "                'output/simul/Sim_M31.csv','output/simul/Sim_M4.csv',\n",
      "                'output/simul/Sim_M22.csv','output/simul/Sim_M23.csv',\n",
      "                'output/simul/Sim_M32.csv','output/simul/Sim_M33.csv']\n",
      "\n",
      "#create output files\n",
      "outputFiles = ['output/Simul_M1.csv','output/Simul_M21.csv',\n",
      "               'output/Simul_M31.csv','output/Simul_M4.csv',\n",
      "               'output/Simul_M22.csv','output/Simul_M23.csv',\n",
      "               'output/Simul_M32.csv','output/Simul_M33.csv']\n",
      "\n",
      "#number of starting values\n",
      "nrIt = 30\n",
      "nrStartValues = [16,32,32,64,32,32,32,32]\n",
      "\n",
      "iterator = 0\n",
      "\n",
      "for (iFile,oFile) in zip(inputFiles,outputFiles):\n",
      "    \n",
      "    optData = np.genfromtxt(iFile, delimiter=',') #load data file\n",
      "    subjects = np.size(optData, axis=1)\n",
      "    nrParam = ((np.size(optData, axis=0)/nrStartValues[iterator])/nrIt)\n",
      "    optParam = np.zeros((subjects*nrIt, nrParam )) #result array\n",
      "    #subjects=1\n",
      "    #print(nrParam)\n",
      "    \n",
      "    for s in range(subjects):\n",
      "        \n",
      "        #identify index of minimum because fminsearch is \n",
      "        #minimising a negative number (=maximisation) for each simulation\n",
      "        count = 1\n",
      "        for n in range(nrIt):\n",
      "            oneIt=optData[nrStartValues[iterator]*nrIt*(nrParam-1)+n*nrStartValues[iterator]:\n",
      "                               nrStartValues[iterator]*nrIt*(nrParam-1)+\n",
      "                               (n+1)*nrStartValues[iterator],s]\n",
      "            maxIndex = oneIt.argmin(axis=0)\n",
      "            \n",
      "            for param in range(nrParam):\n",
      "\n",
      "                #collect optimal parameter set using index for each simulation\n",
      "                optParam[(s*nrIt)+n,param]=optData[(nrStartValues[iterator]*nrIt*param)+\n",
      "                                                    n*nrStartValues[iterator]+maxIndex,s]\n",
      "            \n",
      "    np.savetxt(oFile,optParam, delimiter=',')\n",
      "    iterator +=1"
     ],
     "language": "python",
     "metadata": {},
     "outputs": [],
     "prompt_number": 66
    },
    {
     "cell_type": "heading",
     "level": 1,
     "metadata": {},
     "source": [
      "Calculate Bayesian Information Criterion"
     ]
    },
    {
     "cell_type": "markdown",
     "metadata": {},
     "source": [
      "Calculate Bayesian Information Criterion as to compare model fit between models with different numbers of parameters."
     ]
    },
    {
     "cell_type": "heading",
     "level": 3,
     "metadata": {},
     "source": [
      "Real Behavioural Data"
     ]
    },
    {
     "cell_type": "code",
     "collapsed": false,
     "input": [
      "import numpy as np\n",
      "\n",
      "inputFiles = ['output/M1.csv','output/M21.csv',\n",
      "              'output/M22.csv','output/M23.csv',\n",
      "               'output/M31.csv','output/M32.csv',\n",
      "               'output/M33.csv','output/M4.csv']\n",
      "\n",
      "nrParam = [3,4,4,4,5,5,5,6]\n",
      "iterator = 0\n",
      "\n",
      "for iFile in inputFiles:\n",
      "    \n",
      "    optData = np.genfromtxt(iFile, delimiter=',') #load data file\n",
      "    subjects = np.size(optData, axis=0)\n",
      "    nrTrials = 220\n",
      "    outputData = np.zeros((subjects,nrParam[iterator]+1)) #result array\n",
      "    outputData[:,:nrParam[iterator]] = optData[:,:nrParam[iterator]]\n",
      "    \n",
      "    #subjects=1\n",
      "    for s in range(subjects):\n",
      "\n",
      "        #calulate BIC and add it to the inputfile\n",
      "        outputData[s,nrParam[iterator]]=-2 * np.log(-optData[s,nrParam[iterator]-1])+(nrParam[iterator]-1)*np.log(nrTrials)        \n",
      "    np.savetxt(iFile,outputData, delimiter=',')\n",
      "    iterator +=1"
     ],
     "language": "python",
     "metadata": {},
     "outputs": [],
     "prompt_number": 15
    },
    {
     "cell_type": "heading",
     "level": 3,
     "metadata": {},
     "source": [
      "Simulated Data"
     ]
    },
    {
     "cell_type": "code",
     "collapsed": false,
     "input": [
      "import numpy as np\n",
      "\n",
      "inputFiles = ['output/Simul_M1.csv','output/Simul_M21.csv',\n",
      "              'output/Simul_M22.csv','output/Simul_M23.csv',\n",
      "               'output/Simul_M31.csv','output/Simul_M32.csv',\n",
      "               'output/Simul_M33.csv','output/Simul_M4.csv']\n",
      "\n",
      "nrParam = [3,4,4,4,5,5,5,6]\n",
      "iterator = 0\n",
      "nrTrials = 220\n",
      "\n",
      "for iFile in inputFiles:\n",
      "    \n",
      "    optData = np.genfromtxt(iFile, delimiter=',') #load data file\n",
      "    subjects = np.size(optData, axis=0)\n",
      "    outputData = np.zeros((subjects,nrParam[iterator]+1)) #result array\n",
      "    outputData[:,:nrParam[iterator]] = optData[:,:nrParam[iterator]]\n",
      "    \n",
      "    #subjects=1\n",
      "    for s in range(subjects):\n",
      "\n",
      "        #calulate BIC and add it to the inputfile\n",
      "        outputData[s,nrParam[iterator]]=-2 * np.log(-optData[s,nrParam[iterator]-1])+(nrParam[iterator]-1)*np.log(nrTrials)        \n",
      "    np.savetxt(iFile,outputData, delimiter=',')\n",
      "    iterator +=1"
     ],
     "language": "python",
     "metadata": {},
     "outputs": [],
     "prompt_number": 116
    },
    {
     "cell_type": "heading",
     "level": 1,
     "metadata": {},
     "source": [
      "Calculate the most parsimonous model"
     ]
    },
    {
     "cell_type": "heading",
     "level": 3,
     "metadata": {},
     "source": [
      "Behavioural Data"
     ]
    },
    {
     "cell_type": "markdown",
     "metadata": {},
     "source": [
      "The following code answers which of the 8 models best approximated the original behavioural data for each individual subject and writes two files: one with the optimal parameter combination and one with the name of the optimal model."
     ]
    },
    {
     "cell_type": "code",
     "collapsed": false,
     "input": [
      "import numpy as np\n",
      "import csv\n",
      "\n",
      "#load files\n",
      "\n",
      "inputFiles = ['output/M1.csv','output/M21.csv',\n",
      "              'output/M22.csv','output/M23.csv',\n",
      "               'output/M31.csv','output/M32.csv',\n",
      "               'output/M33.csv','output/M4.csv']\n",
      "outputFile = 'output/Real_PF.csv'\n",
      "\n",
      "\n",
      "nrParam = [3,4,4,4,5,5,5,6]\n",
      "data = np.loadtxt(inputFiles[0],delimiter=',')\n",
      "subjects = np.size(data, axis = 0)\n",
      "params = 7 #params + lnlh + BIC\n",
      "\n",
      "allModels = np.zeros((len(inputFiles),subjects,params))\n",
      "\n",
      "# first load data an make all models include the same number of parameter \n",
      "# by substituting missing parameter with 1\n",
      "count = 0\n",
      "for m in range(len(inputFiles)):\n",
      "    \n",
      "    help = np.loadtxt(inputFiles[m],delimiter=',')\n",
      "    allModels[m,:,0:2]=help[:,0:2]\n",
      "    allModels[m,:,-2:]=help[:,-2:]\n",
      "    ones = np.ones((np.size(help,axis=0)))\n",
      "    \n",
      "    if count == 0 : #model 1\n",
      "        #allModels[r,:,2:4]=[help[:,2] ones ones]\n",
      "        allModels[m,:,2]=ones\n",
      "        allModels[m,:,3]=ones\n",
      "        allModels[m,:,4]=ones\n",
      "    elif count == 1: #model 21\n",
      "        allModels[m,:,2]=help[:,2]\n",
      "        allModels[m,:,3]=ones\n",
      "        allModels[m,:,4]=ones\n",
      "    elif count == 2: #model 22\n",
      "        allModels[m,:,3]=help[:,2]\n",
      "        allModels[m,:,2]=ones\n",
      "        allModels[m,:,4]=ones\n",
      "    elif count == 3: #model 23\n",
      "        allModels[m,:,4]=help[:,2]\n",
      "        allModels[m,:,2]=ones\n",
      "        allModels[m,:,3]=ones\n",
      "    elif count == 4: #model 31\n",
      "        allModels[m,:,2]=help[:,2]\n",
      "        allModels[m,:,3]=help[:,3]\n",
      "        allModels[m,:,4]=ones \n",
      "    elif count == 5: #model 32\n",
      "        allModels[m,:,2]=help[:,2]\n",
      "        allModels[m,:,3]=ones\n",
      "        allModels[m,:,4]=help[:,3]\n",
      "    elif count == 6: #model 33\n",
      "        allModels[m,:,2]=ones\n",
      "        allModels[m,:,3]=help[:,2]\n",
      "        allModels[m,:,4]=help[:,3]\n",
      "    else: #model 4\n",
      "        allModels[m,:,2:4]=help[:,2:4]\n",
      "    count += 1\n",
      "#idetify index of parsimonious model \n",
      "outputIndex =np.zeros((subjects))\n",
      "for s in range(subjects):\n",
      "    temp = np.array(np.where(allModels[:,s,-1]==min(allModels[:,s,-1])))[0]\n",
      "    outputIndex[s]=temp[0]\n",
      "\n",
      "#collate parameter values for parsimonious model and save to file\n",
      "output = np.zeros((subjects,params))\n",
      "for s in range(subjects):\n",
      "    for p in range(params):\n",
      "        output[s,p]=allModels[outputIndex[s].astype(int)-1,s,p]\n",
      "            \n",
      "np.savetxt(outputFile,output,delimiter=',')\n",
      "\n",
      "#create file with the most parsimonious model names\n",
      "\n",
      "stringArr = []\n",
      "outputDic = {'M1':0,'M21':1,'M22':2,'M23':3,'M31':4,'M32':5,'M33':6,'M4':7}\n",
      "outputMFile= 'output/Real_PF_Model.csv'\n",
      "\n",
      "for s in range(subjects):\n",
      "        stringArr.append(outputDic.keys()[outputDic.values().index(outputIndex[s])])\n",
      "\n",
      "with open(outputMFile, \"wb\") as f:\n",
      "    writer = csv.writer(f)\n",
      "    writer.writerows(stringArr)"
     ],
     "language": "python",
     "metadata": {},
     "outputs": [
      {
       "output_type": "stream",
       "stream": "stdout",
       "text": [
        "[ 0.  7.  0.  1.  4.  1.  7.  0.  6.  1.  7.  3.  3.  3.  5.  1.  1.  7.\n",
        "  1.  7.  1.  7.  4.  0.  1.  5.  1.  7.  7.  0.  0.  5.  3.  0.  1.  7.\n",
        "  0.  7.  0.  4.  7.  1.  7.  4.  1.  7.  6.  3.  5.  5.  7.  1.  1.  7.\n",
        "  0.  1.  5.  4.  5.  0.  4.  7.  5.  0.  5.  1.  5.  7.  5.  3.  3.  5.\n",
        "  3.  5.  0.  1.  1.  3.  1.  0.]\n"
       ]
      }
     ],
     "prompt_number": 16
    },
    {
     "cell_type": "heading",
     "level": 3,
     "metadata": {},
     "source": [
      "Simulated Data"
     ]
    },
    {
     "cell_type": "code",
     "collapsed": false,
     "input": [
      "import numpy as np\n",
      "import csv\n",
      "\n",
      "#load files and simulated data in array\n",
      "\n",
      "inputFiles = ['output/Simul_M1.csv','output/Simul_M21.csv',\n",
      "                'output/Simul_M22.csv','output/Simul_M23.csv',\n",
      "                'output/Simul_M31.csv','output/Simul_M32.csv',\n",
      "                'output/Simul_M33.csv','output/Simul_M4.csv']\n",
      "outputFile = 'output/Simul_PFF.csv'\n",
      "\n",
      "data = np.loadtxt(inputFiles[0],delimiter=',')\n",
      "runs = 30\n",
      "subjects = np.size(data, axis = 0)/runs\n",
      "params = 7 #params + lnlh + BIC\n",
      "\n",
      "allModels = np.zeros((len(inputFiles),subjects*runs,params))\n",
      "\n",
      "count = 0\n",
      "for m in range(len(inputFiles)):\n",
      "    print(inputFiles[m])\n",
      "    help = np.loadtxt(inputFiles[m],delimiter=',')\n",
      "    allModels[m,:,0:2]=help[:,0:2]\n",
      "    allModels[m,:,-2:]=help[:,-2:]\n",
      "    ones = np.ones((np.size(help,axis=0)))\n",
      "    \n",
      "    if count == 0 : #model 1\n",
      "        #allModels[r,:,2:4]=[help[:,2] ones ones]\n",
      "        allModels[m,:,2]=ones\n",
      "        allModels[m,:,3]=ones\n",
      "        allModels[m,:,4]=ones\n",
      "    elif count == 1: #model 21\n",
      "        allModels[m,:,2]=help[:,2]\n",
      "        allModels[m,:,3]=ones\n",
      "        allModels[m,:,4]=ones\n",
      "    elif count == 2: #model 22\n",
      "        allModels[m,:,3]=help[:,2]\n",
      "        allModels[m,:,2]=ones\n",
      "        allModels[m,:,4]=ones\n",
      "    elif count == 3: #model 23\n",
      "        allModels[m,:,4]=help[:,2]\n",
      "        allModels[m,:,2]=ones\n",
      "        allModels[m,:,3]=ones\n",
      "    elif count == 4: #model 31\n",
      "        allModels[m,:,2]=help[:,2]\n",
      "        allModels[m,:,3]=help[:,3]\n",
      "        allModels[m,:,4]=ones \n",
      "    elif count == 5: #model 32\n",
      "        allModels[m,:,2]=help[:,2]\n",
      "        allModels[m,:,3]=ones\n",
      "        allModels[m,:,4]=help[:,3]\n",
      "    elif count == 6: #model 33\n",
      "        allModels[m,:,2]=ones\n",
      "        allModels[m,:,3]=help[:,2]\n",
      "        allModels[m,:,4]=help[:,3]\n",
      "    else: #model 4\n",
      "        allModels[m,:,2:4]=help[:,2:4]\n",
      "    count += 1\n",
      "\n",
      "#for r in range(len(inputFiles)):\n",
      "#    print(inputFiles[r])\n",
      "#    allModels[r,:,:]=np.loadtxt(inputFiles[r],delimiter=',')\n",
      "    \n",
      "#identify index of parsimonious model \n",
      "outputIndex =np.zeros((runs,subjects))\n",
      "for s in range(subjects):\n",
      "    oList = np.zeros((runs))\n",
      "    for r in range(runs):  \n",
      "        oList[r]=np.array(np.where(allModels[:,s*runs+r,-1]==\n",
      "                                    min(allModels[:,s*runs+r,-1])))[0].astype(int)\n",
      "    outputIndex[:,s]=oList\n",
      "\n",
      "#collate parameter values for parsimonious model and save to file\n",
      "output = np.zeros((subjects*runs,params))\n",
      "for s in range(subjects):\n",
      "    for r in range(runs):\n",
      "        for p in range(params):\n",
      "            output[(s*runs)+r,p]=allModels[outputIndex[r,s].astype(int),(s*runs)+r,p]\n",
      "            \n",
      "np.savetxt(outputFile,output,delimiter=',')\n",
      "\n",
      "#create file with the most parsimonious model names\n",
      "\n",
      "stringArr = []\n",
      "outputDic = {'M1':0,'M21':1,'M22':2,'M23':3,'M31':4,'M32':5,'M33':6,'M4':7}\n",
      "outputMFile= 'output/Simul_PFF_Model.csv'\n",
      "\n",
      "for s in range(subjects):\n",
      "    for r in range(runs):\n",
      "        stringArr.append(outputDic.keys()[outputDic.values().index(outputIndex[r,s])])\n",
      "\n",
      "with open(outputMFile, \"wb\") as f:\n",
      "    writer = csv.writer(f)\n",
      "    writer.writerows(stringArr)"
     ],
     "language": "python",
     "metadata": {},
     "outputs": [
      {
       "output_type": "stream",
       "stream": "stdout",
       "text": [
        "output/Simul_M1.csv\n",
        "output/Simul_M21.csv\n",
        "output/Simul_M22.csv"
       ]
      },
      {
       "output_type": "stream",
       "stream": "stdout",
       "text": [
        "\n",
        "output/Simul_M23.csv\n",
        "output/Simul_M31.csv"
       ]
      },
      {
       "output_type": "stream",
       "stream": "stdout",
       "text": [
        "\n",
        "output/Simul_M32.csv\n",
        "output/Simul_M33.csv"
       ]
      },
      {
       "output_type": "stream",
       "stream": "stdout",
       "text": [
        "\n",
        "output/Simul_M4.csv\n"
       ]
      }
     ],
     "prompt_number": 25
    }
   ],
   "metadata": {}
  }
 ]
}