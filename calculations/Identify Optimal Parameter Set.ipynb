{
 "metadata": {
  "name": "",
  "signature": "sha256:0df3649ce83ed82460c4e789a0533862d3cfb94766f364527610e8ba93207089"
 },
 "nbformat": 3,
 "nbformat_minor": 0,
 "worksheets": [
  {
   "cells": [
    {
     "cell_type": "heading",
     "level": 1,
     "metadata": {},
     "source": [
      "Why"
     ]
    },
    {
     "cell_type": "markdown",
     "metadata": {},
     "source": [
      "This short notebook take the output from the optimisation procedure and identifies the optimal parameter set for each individual subject. The optimisation algorithm used in the optimisation coverges on a local and not necessarily absolute optimum. To avoid such cases, several different start values for the optimisation are chosen and then the best optimal parameter configuration across the different start values is selected."
     ]
    },
    {
     "cell_type": "heading",
     "level": 2,
     "metadata": {},
     "source": [
      "For Data from Optimisation on Real Behavioural Data"
     ]
    },
    {
     "cell_type": "code",
     "collapsed": false,
     "input": [
      "import numpy as np\n",
      "\n",
      "\n",
      "#load data\n",
      "\n",
      "inputFiles = ['../output/real/M1.csv','../output/real/M21.csv','../output/real/M31.csv',\n",
      "               '../output/real/M4.csv','../output/real/M22.csv','../output/real/M23.csv',\n",
      "               '../output/real/M32.csv','../output/real/M33.csv']\n",
      "\n",
      "#create output files for Simulation\n",
      "outputFilesS = ['../input/M1.csv','../input/M21.csv','../input/M31.csv',\n",
      "               '../input/M4.csv','../input/M22.csv','../input/M23.csv',\n",
      "               '../input/M32.csv','../input/M33.csv']\n",
      "\n",
      "outputFiles = ['../output/M1.csv','../output/M21.csv','../output/M31.csv',\n",
      "               '../output/M4.csv','../output/M22.csv','../output/M23.csv',\n",
      "               '../output/M32.csv','../output/M33.csv']\n",
      "\n",
      "#number of starting values\n",
      "nrStartValues = [16,32,32,64,32,32,32,32]\n",
      "\n",
      "iterator = 0\n",
      "\n",
      "for (iFile,oFileS,oFile) in zip(inputFiles,outputFilesS,outputFiles):\n",
      "    \n",
      "    optData = np.genfromtxt(iFile, delimiter=',') #load data file\n",
      "    subjects = np.size(optData, axis=1)\n",
      "    nrParam = (np.size(optData, axis=0)/nrStartValues[iterator])-1\n",
      "    optParam = np.zeros((subjects, nrParam ))\n",
      "    optParam2 = np.zeros((subjects, nrParam+1 ))#result array\n",
      "    #subjects=2\n",
      "    \n",
      "    for s in range(subjects):\n",
      "        \n",
      "        #identify index of minimum because fminsearch is minimising a negative number (=maximisation)\n",
      "        maxIndex = optData[-nrStartValues[iterator]-1:-1,s].argmin(axis=0)\n",
      "        #print(maxIndex)\n",
      "        \n",
      "        for param in range(nrParam):\n",
      "            \n",
      "            #collect optimal parameter set using index\n",
      "            optParam[s,param]=optData[(nrStartValues[iterator]*param)+maxIndex-1,s]\n",
      "            #print(nrStartValues[iterator]*param)\n",
      "            \n",
      "            \n",
      "        #add LH value for \n",
      "        optParam2[s,0:nrParam]=optParam[s,:]\n",
      "        optParam2[s,-1]=np.amin(optData[-nrStartValues[iterator]-1:-1,s],axis=0)\n",
      "        \n",
      "    np.savetxt(oFileS,optParam, delimiter=',')\n",
      "    np.savetxt(oFile,optParam2, delimiter=',')\n",
      "    iterator +=1"
     ],
     "language": "python",
     "metadata": {},
     "outputs": [],
     "prompt_number": 55
    },
    {
     "cell_type": "heading",
     "level": 2,
     "metadata": {},
     "source": [
      "For Optimisation from Simulated Data"
     ]
    },
    {
     "cell_type": "code",
     "collapsed": false,
     "input": [
      "import numpy as np\n",
      "\n",
      "\n",
      "#load data\n",
      "\n",
      "inputFiles = ['../output/simul/Sim_M1.csv','../output/simul/Sim_M21.csv',\n",
      "              '../output/simul/Sim_M31.csv','../output/simul/Sim_M4.csv',\n",
      "              '../output/simul/Sim_M22.csv','../output/simul/Sim_M23.csv',\n",
      "                '../output/simul/Sim_M32.csv','../output/simul/Sim_M33.csv']\n",
      "\n",
      "#create output files\n",
      "outputFiles = ['../output/Simul_M1.csv','../output/Simul_M21.csv','../output/Simul_M31.csv',\n",
      "               '../output/Simul_M4.csv','../output/Simul_M22.csv','../output/Simul_M23.csv',\n",
      "               '../output/Simul_M32.csv','../output/Simul_M33.csv']\n",
      "\n",
      "#number of starting values\n",
      "nrIt = 30\n",
      "nrStartValues = [16,32,32,64,32,32,32,32]\n",
      "\n",
      "iterator = 0\n",
      "\n",
      "for (iFile,oFile) in zip(inputFiles,outputFiles):\n",
      "    \n",
      "    optData = np.genfromtxt(iFile, delimiter=',') #load data file\n",
      "    subjects = np.size(optData, axis=1)\n",
      "    nrParam = ((np.size(optData, axis=0)/nrStartValues[iterator])/nrIt)\n",
      "    optParam = np.zeros((subjects*nrIt, nrParam )) #result array\n",
      "    subjects=1\n",
      "    #print(nrParam)\n",
      "    \n",
      "    for s in range(subjects):\n",
      "        \n",
      "        #identify index of minimum because fminsearch is minimising a negative number (=maximisation)\n",
      "        #for each simulation\n",
      "        count = 1\n",
      "        for n in range(nrIt):\n",
      "            oneIt=optData[nrStartValues[iterator]*nrIt*(nrParam-1)+n*nrStartValues[iterator]:\n",
      "                               nrStartValues[iterator]*nrIt*(nrParam-1)+\n",
      "                               (n+1)*nrStartValues[iterator],s]\n",
      "            maxIndex = oneIt.argmin(axis=0)\n",
      "            \n",
      "            for param in range(nrParam):\n",
      "\n",
      "                #collect optimal parameter set using index for each simulation\n",
      "                optParam[(s*nrIt)+n,param]=optData[(nrStartValues[iterator]*nrIt*param)+\n",
      "                                                    n*nrStartValues[iterator]+maxIndex,s]\n",
      "            \n",
      "    np.savetxt(oFile,optParam, delimiter=',')\n",
      "    iterator +=1"
     ],
     "language": "python",
     "metadata": {},
     "outputs": [],
     "prompt_number": 84
    }
   ],
   "metadata": {}
  }
 ]
}